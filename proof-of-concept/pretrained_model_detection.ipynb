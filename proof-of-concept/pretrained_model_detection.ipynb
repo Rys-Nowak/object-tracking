{
 "cells": [
  {
   "cell_type": "code",
   "execution_count": 6,
   "metadata": {},
   "outputs": [],
   "source": [
    "import cv2\n",
    "import numpy as np\n",
    "import imutils"
   ]
  },
  {
   "cell_type": "code",
   "execution_count": 7,
   "metadata": {},
   "outputs": [],
   "source": [
    "config_file = 'D:\\\\LEnovo\\\\Python\\\\object-tracking\\\\models\\\\ssd_mobilenet_v3_large_coco_2020_01_14.pbtxt'\n",
    "frozen_model = 'D:\\\\LEnovo\\\\Python\\\\object-tracking\\\\models\\\\frozen_inference_graph_yolo.pb'\n",
    "model = cv2.dnn.readNet(frozen_model, config_file)"
   ]
  },
  {
   "cell_type": "code",
   "execution_count": 8,
   "metadata": {},
   "outputs": [],
   "source": [
    "cap = cv2.VideoCapture(0) # for accessing the default camera\n",
    "# cap = cv2.VideoCapture('path_to_video_file') # for accessing the video file"
   ]
  },
  {
   "cell_type": "code",
   "execution_count": 9,
   "metadata": {},
   "outputs": [],
   "source": [
    "while True:\n",
    "    # Read the frame\n",
    "    ret, frame = cap.read()\n",
    "    \n",
    "    # Resize the frame\n",
    "    frame = imutils.resize(frame, width=500)\n",
    "    \n",
    "    # Pass the frame to the object detection model\n",
    "    blob = cv2.dnn.blobFromImage(frame, 0.007843, (500, 500), 127.5)\n",
    "    model.setInput(blob)\n",
    "    detections = model.forward()\n",
    "    \n",
    "    # Loop through the detections\n",
    "    for i in range(detections.shape[2]):\n",
    "        confidence = detections[0, 0, i, 2]\n",
    "        \n",
    "        # Filter out weak detections\n",
    "        if confidence > 0.6:\n",
    "            # Get the bounding box coordinates\n",
    "            box = detections[0, 0, i, 3:7] * np.array([500, 500, 500, 500])\n",
    "            (startX, startY, endX, endY) = box.astype('int')\n",
    "            \n",
    "            # Draw the bounding box and label on the frame\n",
    "            cv2.rectangle(frame, (startX, startY), (endX, endY), (0, 255, 0), 2)\n",
    "            label = '{:.2f}%'.format(confidence * 100)\n",
    "            cv2.putText(frame, label, (startX, startY - 15), cv2.FONT_HERSHEY_SIMPLEX, 0.5, (0, 255, 0), 2)\n",
    "    \n",
    "    # Show the frame\n",
    "    cv2.imshow('Object Detection', frame)\n",
    "    \n",
    "    # Check for key presses\n",
    "    key = cv2.waitKey(1) & 0xFF\n",
    "    if key == ord('q'):\n",
    "        cv2.destroyAllWindows()\n",
    "        break\n"
   ]
  },
  {
   "cell_type": "code",
   "execution_count": 10,
   "metadata": {},
   "outputs": [],
   "source": [
    "# Release the video capture object and close all windows\n",
    "cap.release()\n"
   ]
  }
 ],
 "metadata": {
  "kernelspec": {
   "display_name": "neural",
   "language": "python",
   "name": "python3"
  },
  "language_info": {
   "codemirror_mode": {
    "name": "ipython",
    "version": 3
   },
   "file_extension": ".py",
   "mimetype": "text/x-python",
   "name": "python",
   "nbconvert_exporter": "python",
   "pygments_lexer": "ipython3",
   "version": "3.10.14"
  }
 },
 "nbformat": 4,
 "nbformat_minor": 2
}
